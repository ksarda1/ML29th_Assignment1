{
 "cells": [
  {
   "cell_type": "markdown",
   "metadata": {},
   "source": [
    "### 1 Write a Python Program to implement your own myreduce() function which works exactly like Python's built-in function reduce()"
   ]
  },
  {
   "cell_type": "code",
   "execution_count": 1,
   "metadata": {},
   "outputs": [],
   "source": [
    "# Source code for problem 1\n",
    "\n",
    "def myreduce(func,iterable,initial=None):\n",
    "    if initial!=None:\n",
    "        s = initial\n",
    "        for i in range(len(iterable)):\n",
    "            s = func(iterable[i],s)\n",
    "    else:\n",
    "        s = iterable[0]\n",
    "        for i in range(1,len(iterable)):\n",
    "            s = func(iterable[i],s)\n",
    "    return(s)"
   ]
  },
  {
   "cell_type": "markdown",
   "metadata": {},
   "source": [
    "### 2 Write a Python program to implement your own myfilter() function which works exactly like Python's built-in function filter()"
   ]
  },
  {
   "cell_type": "code",
   "execution_count": 2,
   "metadata": {},
   "outputs": [],
   "source": [
    "# Source code for problem 2\n",
    "\n",
    "def myfilter(func,iterable):\n",
    "    ans = []\n",
    "    for i in range(len(iterable)):\n",
    "        if type(func(iterable[i]))!=bool:\n",
    "            return(iterable)\n",
    "        if func(iterable[i]):\n",
    "            ans.append(iterable[i])\n",
    "    return(ans)"
   ]
  },
  {
   "cell_type": "markdown",
   "metadata": {},
   "source": [
    "### 3. Write List comprehensions to produce the following Lists\n",
    "['A', 'C', 'A', 'D', 'G', 'I', ’L’, ‘ D’]\n",
    "\n",
    "['x', 'xx', 'xxx', 'xxxx', 'y', 'yy', 'yyy', 'yyyy', 'z', 'zz', 'zzz', 'zzzz']\n",
    "\n",
    "['x', 'y', 'z', 'xx', 'yy', 'zz', 'xxx', 'yyy', 'zzz', 'xxxx', 'yyyy', 'zzzz']\n",
    "\n",
    "[[2], [3], [4], [3], [4], [5], [4], [5], [6]]\n",
    "\n",
    "[[2, 3, 4, 5], [3, 4, 5, 6], [4, 5, 6, 7], [5, 6, 7, 8]]\n",
    "\n",
    "[(1, 1), (2, 1), (3, 1), (1, 2), (2, 2), (3, 2), (1, 3), (2, 3), (3, 3)]"
   ]
  },
  {
   "cell_type": "code",
   "execution_count": 3,
   "metadata": {},
   "outputs": [
    {
     "name": "stdout",
     "output_type": "stream",
     "text": [
      "['A', 'C', 'A', 'D', 'G', 'I', 'L', 'D'] \n",
      "\n",
      " ['x', 'xx', 'xxx', 'xxxx', 'y', 'yy', 'yyy', 'yyyy', 'z', 'zz', 'zzz', 'zzzz'] \n",
      "\n",
      " ['x', 'y', 'z', 'xx', 'yy', 'zz', 'xxx', 'yyy', 'zzz', 'xxxx', 'yyyy', 'zzzz'] \n",
      "\n",
      " [2, 3, 4, 3, 4, 5, 4, 5, 6] \n",
      "\n",
      " [[2, 3, 4, 5], [3, 4, 5, 6], [4, 5, 6, 7], [5, 6, 7, 8]] \n",
      "\n",
      " [(1, 1), (1, 2), (1, 3), (2, 1), (2, 2), (2, 3), (3, 1), (3, 2), (3, 3)]\n"
     ]
    }
   ],
   "source": [
    "# Source code for problem 3\n",
    "\n",
    "## ['A', 'C', 'A', 'D', 'G', 'I', ’L’, ‘ D’] will be produced by\n",
    "A = [t.upper() for t in 'acadgild']\n",
    "\n",
    "## ['x', 'xx', 'xxx', 'xxxx', 'y', 'yy', 'yyy', 'yyyy', 'z', 'zz', 'zzz', 'zzzz'] will be produced by\n",
    "B = [a*i for a in 'xyz' for i in range(1,5)]\n",
    "\n",
    "## ['x', 'y', 'z', 'xx', 'yy', 'zz', 'xxx', 'yyy', 'zzz', 'xxxx', 'yyyy', 'zzzz'] will be produced by\n",
    "C = [a*i for i in range(1,5) for a in 'xyz']\n",
    "\n",
    "## [[2], [3], [4], [3], [4], [5], [4], [5], [6]] will be produced by\n",
    "D = [j for i in range(2,5) for j in range(i,i+3)]\n",
    "\n",
    "## [[2, 3, 4, 5], [3, 4, 5, 6], [4, 5, 6, 7], [5, 6, 7, 8]] will be produced by\n",
    "E = [[i for i in range(j,j+4)] for j in range(2,6)]\n",
    "\n",
    "## [(1, 1), (2, 1), (3, 1), (1, 2), (2, 2), (3, 2), (1, 3), (2, 3), (3, 3)] will be produced by\n",
    "F = [(i,j) for i in range(1,4) for j in range(1,4)]\n",
    "\n",
    "print(A,'\\n\\n',B,'\\n\\n',C,'\\n\\n',D,'\\n\\n',E,'\\n\\n',F)"
   ]
  }
 ],
 "metadata": {
  "kernelspec": {
   "display_name": "Python 3",
   "language": "python",
   "name": "python3"
  },
  "language_info": {
   "codemirror_mode": {
    "name": "ipython",
    "version": 3
   },
   "file_extension": ".py",
   "mimetype": "text/x-python",
   "name": "python",
   "nbconvert_exporter": "python",
   "pygments_lexer": "ipython3",
   "version": "3.7.6"
  }
 },
 "nbformat": 4,
 "nbformat_minor": 4
}

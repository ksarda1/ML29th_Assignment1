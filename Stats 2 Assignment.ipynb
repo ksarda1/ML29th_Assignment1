{
 "cells": [
  {
   "cell_type": "code",
   "execution_count": 1,
   "metadata": {},
   "outputs": [],
   "source": [
    "import scipy.stats\n",
    "import numpy as np\n",
    "import math\n",
    "from scipy import stats\n",
    "\n",
    "prob = scipy.stats.norm(0,1)"
   ]
  },
  {
   "cell_type": "code",
   "execution_count": 2,
   "metadata": {},
   "outputs": [
    {
     "name": "stdout",
     "output_type": "stream",
     "text": [
      "H0: μ = 25, H1: μ ≠ 25 is a true statement\n",
      "H0: σ > 10, H1: σ = 10 is a false statement because H1: σ <= 10 is correct alternate Hypothesis\n",
      "H0: x = 50, H1: x ≠ 50 is a true statement\n",
      "H0: p = 0.1, H1: p = 0.5 is false statement because H1: p ≠ 0.1 is correct alternate Hypothesis\n",
      "H0: s = 30, H1: s > 30 is false statement because H1: s ≠ 30 is correct alternate Hypothesis\n"
     ]
    }
   ],
   "source": [
    "# Problem Statement 1:\n",
    "\n",
    "print('H0: μ = 25, H1: μ ≠ 25 is a true statement')\n",
    "print('H0: σ > 10, H1: σ = 10 is a false statement because H1: σ <= 10 is correct alternate Hypothesis')\n",
    "print('H0: x = 50, H1: x ≠ 50 is a true statement')\n",
    "print('H0: p = 0.1, H1: p = 0.5 is false statement because H1: p ≠ 0.1 is correct alternate Hypothesis')\n",
    "print('H0: s = 30, H1: s > 30 is false statement because H1: s ≠ 30 is correct alternate Hypothesis')"
   ]
  },
  {
   "cell_type": "code",
   "execution_count": 3,
   "metadata": {},
   "outputs": [
    {
     "name": "stdout",
     "output_type": "stream",
     "text": [
      "Reject Null\n"
     ]
    }
   ],
   "source": [
    "# Problem Statement 2:\n",
    "\n",
    "pop_mean = 52.8\n",
    "samp_mean = 52\n",
    "pop_std_dev = 4.5\n",
    "sample_size = 100\n",
    "sig = 0.05\n",
    "# comparision is for price greater or not. So its a one tail test\n",
    "tail_test = 1\n",
    "\n",
    "std_error = pop_std_dev / pow(sample_size,0.5)\n",
    "z = ( samp_mean - pop_mean ) / std_error\n",
    "\n",
    "comp = prob.cdf(z) > sig / tail_test\n",
    "if comp :\n",
    "    print('Accept Null')\n",
    "else :\n",
    "    print('Reject Null')"
   ]
  },
  {
   "cell_type": "code",
   "execution_count": 4,
   "metadata": {},
   "outputs": [
    {
     "name": "stdout",
     "output_type": "stream",
     "text": [
      "Accept Null\n"
     ]
    }
   ],
   "source": [
    "# Problem Statement 3:\n",
    "\n",
    "pop_mean = 34\n",
    "samp_mean = 32.5\n",
    "pop_std_dev = 8\n",
    "sample_size = 50\n",
    "sig = 0.01\n",
    "# comparision is for concentration lower or not. So its a one tail test\n",
    "tail_test = 1\n",
    "std_error = pop_std_dev / pow(sample_size,0.5)\n",
    "z = ( samp_mean - pop_mean ) / std_error\n",
    "\n",
    "comp = prob.cdf(z) > sig / tail_test\n",
    "if comp :\n",
    "    print('Accept Null')\n",
    "else :\n",
    "    print('Reject Null')"
   ]
  },
  {
   "cell_type": "code",
   "execution_count": 5,
   "metadata": {},
   "outputs": [
    {
     "name": "stdout",
     "output_type": "stream",
     "text": [
      "Reject Null\n"
     ]
    }
   ],
   "source": [
    "# Problem Statement 4:\n",
    "\n",
    "data = [1008, 812, 1117, 1323, 1308, 1415, 831, 1021, 1287, 851, 930, 730, 699,\n",
    "        872, 913, 944, 954, 987, 1695, 995, 1003, 994]\n",
    "size = 22\n",
    "pop_mean = 1135\n",
    "alpha = 0.5\n",
    "# comparision is for particluar mean or not. So its a two tail test\n",
    "tail_test = 2\n",
    "\n",
    "samp_mean = np.mean(data)\n",
    "samp_std = np.std(data)\n",
    "std_error = samp_std / pow(size,0.5)\n",
    "t = ( samp_mean - pop_mean ) / std_error\n",
    "\n",
    "comp = scipy.stats.t.cdf(t,size-1) > alpha / tail_test\n",
    "if comp :\n",
    "    print('Accept Null')\n",
    "else :\n",
    "    print('Reject Null')"
   ]
  },
  {
   "cell_type": "code",
   "execution_count": 6,
   "metadata": {},
   "outputs": [
    {
     "name": "stdout",
     "output_type": "stream",
     "text": [
      "Accept Null with maximum significance 0.16 \n"
     ]
    }
   ],
   "source": [
    "# Problem Statement 5:\n",
    "\n",
    "size = 400\n",
    "pop_mean = 48432\n",
    "samp_mean = 48574\n",
    "samp_std = 2000\n",
    "# comparision is for particluar mean or not. So its a two tail test\n",
    "tail_test = 2\n",
    "\n",
    "std_error = samp_std / pow(size,0.5)\n",
    "z = abs( samp_mean - pop_mean ) / std_error\n",
    "\n",
    "print('Accept Null with maximum significance %.2f '%(prob.cdf(-1*z)*2))"
   ]
  },
  {
   "cell_type": "code",
   "execution_count": 7,
   "metadata": {},
   "outputs": [
    {
     "name": "stdout",
     "output_type": "stream",
     "text": [
      "Reject Null\n"
     ]
    }
   ],
   "source": [
    "# Problem Statement 6:\n",
    "\n",
    "size = 19\n",
    "pop_mean = 32.28\n",
    "samp_mean = 31.67\n",
    "samp_std = 1.29\n",
    "alpha = 0.05\n",
    "# comparision is for particluar mean or not. So its a two tail test\n",
    "tail_test = 2\n",
    "\n",
    "std_error = samp_std / pow(size,0.5)\n",
    "t = ( samp_mean - pop_mean ) / std_error\n",
    "comp = stats.t.cdf(t,size-1) < alpha / tail_test\n",
    "if comp :\n",
    "    print('Accept Null')\n",
    "else :\n",
    "    print('Reject Null')"
   ]
  },
  {
   "cell_type": "code",
   "execution_count": 8,
   "metadata": {},
   "outputs": [
    {
     "name": "stdout",
     "output_type": "stream",
     "text": [
      "t-score is 103.33\n"
     ]
    }
   ],
   "source": [
    "# Problem Statement 8:\n",
    "\n",
    "size = 16\n",
    "pop_mean = 10\n",
    "samp_mean = 12\n",
    "samp_std = 1.5\n",
    "alpha = 0.05\n",
    "tail_test = 2\n",
    "\n",
    "std_error = samp_std / pow(size,0.5)\n",
    "t = (samp_mean - pop_mean ) / std_error\n",
    "print(\"t-score is %.2f\"%(t*10+50))"
   ]
  },
  {
   "cell_type": "code",
   "execution_count": 9,
   "metadata": {},
   "outputs": [
    {
     "name": "stdout",
     "output_type": "stream",
     "text": [
      "Corressponding t-score is 2.60\n"
     ]
    }
   ],
   "source": [
    "# Problem Statement 9:\n",
    "\n",
    "size = 16\n",
    "alpha = 0.01\n",
    "tail_test = 2\n",
    "\n",
    "print(\"Corressponding t-score is %.2f\"%stats.t.interval(1-alpha*2,size-1)[1])"
   ]
  },
  {
   "cell_type": "code",
   "execution_count": 10,
   "metadata": {},
   "outputs": [
    {
     "name": "stdout",
     "output_type": "stream",
     "text": [
      "range = -2.06 to 2.06\n",
      "Probability that -0.05 <𝑡<0.1 is 0.06\n"
     ]
    }
   ],
   "source": [
    "# Problem Statement 10:\n",
    "\n",
    "size = 25\n",
    "samp_mean = 60\n",
    "samp_std = 4\n",
    "alpha = 0.05\n",
    "tail_test = 2\n",
    "\n",
    "interval = stats.t.interval(0.95,size-1)\n",
    "print('range = %.2f to %.2f'%(interval[0],interval[1]))\n",
    "\n",
    "t_min = -0.05\n",
    "t_max = 0.1\n",
    "\n",
    "print(\"Probability that -0.05 <𝑡<0.1 is %.2f\"%(stats.t.cdf(t_max , size-1) - stats.t.cdf(t_min , size-1)))"
   ]
  },
  {
   "cell_type": "code",
   "execution_count": 11,
   "metadata": {},
   "outputs": [],
   "source": [
    "# define a function to compare two samples\n",
    "\n",
    "def comp_mean(n1,x1,s1,n2,x2,s2,tail_test=2) :\n",
    "    # for bigger sample size\n",
    "    if n1+n2-2>30 :\n",
    "        se = pow(s1*s1/n1 + s2*s2/n2,0.5)\n",
    "        z = abs(x1-x2)/se\n",
    "        if tail_test == 1 :\n",
    "            return (1-prob.cdf(z))>=0.05\n",
    "        else :\n",
    "            return 2*(1-prob.cdf(z))>=0.05\n",
    "    # for lower sample size\n",
    "    else :\n",
    "        samp_std = pow(((n1-1)*s1*s1+(n2-1)*s2*s2)/(n1+n2-2),0.5)\n",
    "        se = samp_std*pow((1/n1 + 1/n2),0.5)\n",
    "        t = abs(x1 - x2) / se\n",
    "        df = n1 + n2 - 2\n",
    "        if tail_test == 1 :\n",
    "            return stats.t.cdf(t,df)>=0.025\n",
    "#            return (1-stats.t.cdf(t,df))>=0.05\n",
    "        else :\n",
    "            return stats.t.cdf(t,df)>=0.05\n",
    "#            return t,stats.t.cdf(t,df),2*(1 - stats.t.cdf(t,df))>=0.05"
   ]
  },
  {
   "cell_type": "code",
   "execution_count": 12,
   "metadata": {},
   "outputs": [
    {
     "name": "stdout",
     "output_type": "stream",
     "text": [
      "Means are same: False\n"
     ]
    }
   ],
   "source": [
    "# Problem Statement 11:\n",
    "\n",
    "print('Means are same:',comp_mean(1200,452,212,800,523,185))"
   ]
  },
  {
   "cell_type": "code",
   "execution_count": 13,
   "metadata": {},
   "outputs": [
    {
     "name": "stdout",
     "output_type": "stream",
     "text": [
      "Means are same: False\n"
     ]
    }
   ],
   "source": [
    "# Problem Statement 12:\n",
    "\n",
    "print('Means are same:',comp_mean(100,308,84,100,254,67))"
   ]
  },
  {
   "cell_type": "code",
   "execution_count": 14,
   "metadata": {},
   "outputs": [
    {
     "name": "stdout",
     "output_type": "stream",
     "text": [
      "Means are same: True\n"
     ]
    }
   ],
   "source": [
    "# Problem Statement 13:\n",
    "\n",
    "print('Means are same:',comp_mean(14,0.317,0.12,9,.21,.11))"
   ]
  },
  {
   "cell_type": "code",
   "execution_count": 15,
   "metadata": {},
   "outputs": [
    {
     "name": "stdout",
     "output_type": "stream",
     "text": [
      "Means are same: True\n"
     ]
    }
   ],
   "source": [
    "# Problem Statement 14:\n",
    "\n",
    "print('Means are same:',comp_mean(15,6598,844,12,6870,669,tail_test=1))"
   ]
  },
  {
   "cell_type": "code",
   "execution_count": 16,
   "metadata": {},
   "outputs": [
    {
     "name": "stdout",
     "output_type": "stream",
     "text": [
      "Means are same: False\n"
     ]
    }
   ],
   "source": [
    "# Problem Statement 15:\n",
    "\n",
    "print('Means are same:',comp_mean(1000,53,0.53,100,43,0.5))"
   ]
  },
  {
   "cell_type": "code",
   "execution_count": 17,
   "metadata": {},
   "outputs": [
    {
     "name": "stdout",
     "output_type": "stream",
     "text": [
      "Means are same: False\n"
     ]
    }
   ],
   "source": [
    "# Problem Statement 16:\n",
    "\n",
    "print('Means are same:',comp_mean(300,120,0.40,700,140,0.20,tail_test=1))"
   ]
  },
  {
   "cell_type": "code",
   "execution_count": 18,
   "metadata": {},
   "outputs": [
    {
     "name": "stdout",
     "output_type": "stream",
     "text": [
      "Unbiased dice with 0.05 significance: True\n"
     ]
    }
   ],
   "source": [
    "# Problem Statement 17:\n",
    "\n",
    "freq = [16, 20, 25, 14, 29, 28]\n",
    "print(\"Unbiased dice with 0.05 significance:\",scipy.stats.chisquare(freq)[1]>=0.05)"
   ]
  },
  {
   "cell_type": "code",
   "execution_count": 19,
   "metadata": {},
   "outputs": [
    {
     "name": "stdout",
     "output_type": "stream",
     "text": [
      "Independent with maximum 0.08 significance\n"
     ]
    }
   ],
   "source": [
    "# Problem Statement 18:\n",
    "\n",
    "men_voted = 2792\n",
    "women_voted = 3591\n",
    "men_not_voted = 1486\n",
    "women_not_voted = 2131\n",
    "men_tot = men_voted + men_not_voted\n",
    "women_tot = women_voted + women_not_voted\n",
    "voted_tot_ratio = (men_voted + women_voted)/10000\n",
    "not_voted_ratio = (men_not_voted + women_not_voted)/10000\n",
    "\n",
    "p = scipy.stats.chisquare([2792,3591,1486,2131],\n",
    "                      [men_tot*voted_tot_ratio,women_tot*voted_tot_ratio,men_tot*not_voted_ratio,women_tot*not_voted_ratio])\n",
    "print(\"Independent with maximum %.2f significance\"%p[1])"
   ]
  },
  {
   "cell_type": "code",
   "execution_count": 20,
   "metadata": {},
   "outputs": [
    {
     "name": "stdout",
     "output_type": "stream",
     "text": [
      "all candidates are equally popular: False\n"
     ]
    }
   ],
   "source": [
    "# Problem Statement 19:\n",
    "\n",
    "freq = [41,19,24,16]\n",
    "print(\"all candidates are equally popular:\",scipy.stats.chisquare(freq)[1]>=0.05)"
   ]
  },
  {
   "cell_type": "code",
   "execution_count": 21,
   "metadata": {},
   "outputs": [
    {
     "name": "stdout",
     "output_type": "stream",
     "text": [
      "Independent with significance 0.00\n"
     ]
    }
   ],
   "source": [
    "# Problem Statement 20:\n",
    "\n",
    "A_5_6 = 18\n",
    "B_5_6 = 22\n",
    "C_5_6 = 20\n",
    "A_7_8 = 2\n",
    "B_7_8 = 28\n",
    "C_7_8 = 40\n",
    "A_9_10 = 20\n",
    "B_9_10 = 10\n",
    "C_9_10 = 40\n",
    "A_tot = A_5_6 + A_7_8 + A_9_10\n",
    "B_tot = B_5_6 + B_7_8 + B_9_10\n",
    "C_tot = C_5_6 + C_7_8 + C_9_10\n",
    "tot = A_5_6 + B_5_6 + C_5_6 + A_7_8 + B_7_8 + C_7_8 + A_9_10 + B_9_10 + C_9_10\n",
    "tot_5_6_ratio = (A_5_6 + B_5_6 + C_5_6)/tot\n",
    "tot_7_8_ratio = (A_7_8 + B_7_8 + C_7_8)/tot\n",
    "tot_9_10_ratio = (A_9_10 + B_9_10 + C_9_10)/tot\n",
    "\n",
    "expec = [A_tot*tot_5_6_ratio,B_tot*tot_5_6_ratio,C_tot*tot_5_6_ratio,\n",
    "         A_tot*tot_7_8_ratio,B_tot*tot_7_8_ratio,C_tot*tot_7_8_ratio,\n",
    "         A_tot*tot_9_10_ratio,B_tot*tot_9_10_ratio,C_tot*tot_9_10_ratio]\n",
    "freq = [A_5_6 , B_5_6 , C_5_6 , A_7_8 , B_7_8 , C_7_8 , A_9_10 , B_9_10 , C_9_10]\n",
    "\n",
    "p = scipy.stats.chisquare(freq,expec)\n",
    "print(\"Independent with significance %.2f\"%p[1])"
   ]
  },
  {
   "cell_type": "code",
   "execution_count": 22,
   "metadata": {},
   "outputs": [
    {
     "name": "stdout",
     "output_type": "stream",
     "text": [
      "Independent with significance 0.00\n"
     ]
    }
   ],
   "source": [
    "# Problem Statement 21:\n",
    "\n",
    "s_c = 18\n",
    "ns_c = 40\n",
    "s_nc = 32\n",
    "ns_nc = 10\n",
    "tot = s_c + ns_c + s_nc + ns_nc\n",
    "c_ratio = (s_c + ns_c) / tot\n",
    "nc_ratio = (s_nc + ns_nc)/tot\n",
    "s_tot = s_c + s_nc\n",
    "ns_tot = ns_c + ns_nc\n",
    "\n",
    "freq = [s_c,ns_c,s_nc,ns_nc]\n",
    "expec = [s_tot*c_ratio,ns_tot*c_ratio,s_tot*nc_ratio,ns_tot*nc_ratio]\n",
    "\n",
    "p = scipy.stats.chisquare(freq,expec)\n",
    "print(\"Independent with significance %.2f\"%p[1])"
   ]
  },
  {
   "cell_type": "code",
   "execution_count": 23,
   "metadata": {},
   "outputs": [
    {
     "name": "stdout",
     "output_type": "stream",
     "text": [
      "Independent with significance 0.06\n"
     ]
    }
   ],
   "source": [
    "# Problem Statement 22:\n",
    "\n",
    "s_l = 12\n",
    "t_l = 32\n",
    "s_f = 22\n",
    "t_f = 14\n",
    "s_u = 9\n",
    "t_u = 6\n",
    "tot = s_l + t_l + s_f + t_f + s_u + t_u\n",
    "s_tot = s_l + s_f + s_u\n",
    "t_tot = t_l + t_f + t_u\n",
    "l_ratio = (s_l + t_l)/tot\n",
    "f_ratio = (s_f + t_f)/tot\n",
    "u_ratio = (s_u + t_u)/tot\n",
    "\n",
    "freq = [s_l,t_l,s_f,t_f,s_u,t_u]\n",
    "expec = [s_tot*l_ratio,t_tot*l_ratio,s_tot*f_ratio,t_tot*f_ratio,s_tot*u_ratio,t_tot*u_ratio]\n",
    "\n",
    "print(\"Independent with significance %.2f\"%scipy.stats.chisquare(freq,expec)[1])"
   ]
  }
 ],
 "metadata": {
  "kernelspec": {
   "display_name": "Python 3",
   "language": "python",
   "name": "python3"
  },
  "language_info": {
   "codemirror_mode": {
    "name": "ipython",
    "version": 3
   },
   "file_extension": ".py",
   "mimetype": "text/x-python",
   "name": "python",
   "nbconvert_exporter": "python",
   "pygments_lexer": "ipython3",
   "version": "3.8.3"
  }
 },
 "nbformat": 4,
 "nbformat_minor": 4
}

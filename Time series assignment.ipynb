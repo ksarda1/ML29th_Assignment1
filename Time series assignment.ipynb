{
 "cells": [
  {
   "cell_type": "code",
   "execution_count": 1,
   "metadata": {},
   "outputs": [
    {
     "name": "stderr",
     "output_type": "stream",
     "text": [
      "<ipython-input-1-da2858f8a1d3>:3: FutureWarning: The pandas.datetime class is deprecated and will be removed from pandas in a future version. Import from datetime module instead.\n",
      "  from pandas import datetime\n"
     ]
    },
    {
     "name": "stdout",
     "output_type": "stream",
     "text": [
      "ARIMA(0, 0, 0) MSE=52425.268\n",
      "ARIMA(0, 0, 1) MSE=38145.238\n",
      "ARIMA(0, 0, 2) MSE=23989.616\n",
      "ARIMA(0, 1, 0) MSE=18003.173\n",
      "ARIMA(0, 1, 1) MSE=9558.513\n",
      "ARIMA(0, 1, 2) MSE=6306.175\n",
      "ARIMA(0, 2, 0) MSE=67339.808\n",
      "ARIMA(0, 2, 1) MSE=18321.087\n",
      "ARIMA(1, 0, 0) MSE=23112.983\n",
      "ARIMA(1, 0, 2) MSE=7332.818\n",
      "ARIMA(1, 1, 0) MSE=7121.375\n",
      "ARIMA(1, 1, 1) MSE=7003.683\n",
      "ARIMA(1, 2, 0) MSE=18608.005\n",
      "ARIMA(2, 0, 0) MSE=10176.522\n",
      "ARIMA(2, 1, 0) MSE=5689.929\n",
      "ARIMA(2, 1, 1) MSE=7759.706\n",
      "ARIMA(2, 2, 0) MSE=9860.933\n",
      "ARIMA(4, 0, 0) MSE=9762.462\n",
      "ARIMA(4, 1, 0) MSE=6649.590\n",
      "ARIMA(4, 1, 1) MSE=6796.242\n",
      "ARIMA(4, 2, 0) MSE=7596.329\n",
      "ARIMA(4, 2, 1) MSE=4694.878\n",
      "ARIMA(6, 1, 0) MSE=6810.078\n",
      "ARIMA(6, 1, 1) MSE=4496.088\n",
      "ARIMA(6, 2, 0) MSE=6261.077\n",
      "ARIMA(8, 1, 0) MSE=6579.254\n",
      "ARIMA(10, 1, 0) MSE=7543.371\n",
      "Best ARIMA(6, 1, 1) MSE=4496.088\n"
     ]
    }
   ],
   "source": [
    "import warnings\n",
    "from pandas import read_csv\n",
    "from pandas import datetime\n",
    "from statsmodels.tsa.arima_model import ARIMA\n",
    "from sklearn.metrics import mean_squared_error\n",
    " \n",
    "# evaluate an ARIMA model for a given order (p,d,q)\n",
    "def evaluate_arima_model(X, arima_order):\n",
    "\t# prepare training dataset\n",
    "\ttrain_size = int(len(X) * 0.66)\n",
    "\ttrain, test = X[0:train_size], X[train_size:]\n",
    "\thistory = [x for x in train]\n",
    "\t# make predictions\n",
    "\tpredictions = list()\n",
    "\tfor t in range(len(test)):\n",
    "\t\tmodel = ARIMA(history, order=arima_order)\n",
    "\t\tmodel_fit = model.fit(disp=0)\n",
    "\t\tyhat = model_fit.forecast()[0]\n",
    "\t\tpredictions.append(yhat)\n",
    "\t\thistory.append(test[t])\n",
    "\t# calculate out of sample error\n",
    "\terror = mean_squared_error(test, predictions)\n",
    "\treturn error\n",
    " \n",
    "def evaluate_models(dataset, p_values, d_values, q_values):\n",
    "\tdataset = dataset.astype('float32')\n",
    "\tbest_score, best_cfg = float(\"inf\"), None\n",
    "\tfor p in p_values:\n",
    "\t\tfor d in d_values:\n",
    "\t\t\tfor q in q_values:\n",
    "\t\t\t\torder = (p,d,q)\n",
    "\t\t\t\ttry:\n",
    "\t\t\t\t\tmse = evaluate_arima_model(dataset, order)\n",
    "\t\t\t\t\tif mse < best_score:\n",
    "\t\t\t\t\t\tbest_score, best_cfg = mse, order\n",
    "\t\t\t\t\tprint('ARIMA%s MSE=%.3f' % (order,mse))\n",
    "\t\t\t\texcept:\n",
    "\t\t\t\t\tcontinue\n",
    "\tprint('Best ARIMA%s MSE=%.3f' % (best_cfg, best_score))\n",
    " \n",
    "# load dataset\n",
    "def parser(x):\n",
    "\treturn datetime.strptime('190'+x, '%Y-%m')\n",
    "series = read_csv('sales-of-shampoo-over-a-three-ye.csv', header=0, parse_dates=[0], index_col=0, squeeze=True, date_parser=parser)\n",
    "# evaluate parameters\n",
    "p_values = [0, 1, 2, 4, 6, 8, 10]\n",
    "d_values = range(0, 3)\n",
    "q_values = range(0, 3)\n",
    "warnings.filterwarnings(\"ignore\")\n",
    "evaluate_models(series.values, p_values, d_values, q_values)"
   ]
  }
 ],
 "metadata": {
  "kernelspec": {
   "display_name": "Python 3",
   "language": "python",
   "name": "python3"
  },
  "language_info": {
   "codemirror_mode": {
    "name": "ipython",
    "version": 3
   },
   "file_extension": ".py",
   "mimetype": "text/x-python",
   "name": "python",
   "nbconvert_exporter": "python",
   "pygments_lexer": "ipython3",
   "version": "3.8.3"
  }
 },
 "nbformat": 4,
 "nbformat_minor": 4
}

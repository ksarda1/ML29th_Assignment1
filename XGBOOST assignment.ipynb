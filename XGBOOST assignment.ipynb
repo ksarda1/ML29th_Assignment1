{
 "cells": [
  {
   "cell_type": "code",
   "execution_count": 1,
   "metadata": {},
   "outputs": [],
   "source": [
    "# importing the required libraries\n",
    "\n",
    "import pandas as pd\n",
    "from sklearn.preprocessing import OneHotEncoder\n",
    "from sklearn.model_selection import GridSearchCV\n",
    "from xgboost import XGBClassifier\n",
    "\n",
    "import numpy as np"
   ]
  },
  {
   "cell_type": "code",
   "execution_count": 2,
   "metadata": {},
   "outputs": [],
   "source": [
    "# reading  the given dataset into DataFrame\n",
    "\n",
    "train_set = pd.read_csv('http://archive.ics.uci.edu/ml/machine-learning-databases/adult/adult.data', header = None)\n",
    "test_set = pd.read_csv('http://archive.ics.uci.edu/ml/machine-learning-databases/adult/adult.test' , skiprows = 1, header = None)\n",
    "\n",
    "col_labels = ['age', 'workclass', 'fnlwgt', 'education', 'education_num','marital_status', 'occupation',\n",
    "              'relationship', 'race', 'sex', 'capital_gain','capital_loss', 'hours_per_week', 'native_country', \n",
    "              'wage_class']\n",
    "train_set.columns = col_labels\n",
    "test_set.columns = col_labels"
   ]
  },
  {
   "cell_type": "code",
   "execution_count": 3,
   "metadata": {},
   "outputs": [
    {
     "name": "stdout",
     "output_type": "stream",
     "text": [
      "age               False\n",
      "workclass         False\n",
      "fnlwgt            False\n",
      "education         False\n",
      "education_num     False\n",
      "marital_status    False\n",
      "occupation        False\n",
      "relationship      False\n",
      "race              False\n",
      "sex               False\n",
      "capital_gain      False\n",
      "capital_loss      False\n",
      "hours_per_week    False\n",
      "native_country    False\n",
      "wage_class        False\n",
      "dtype: bool\n",
      "age               False\n",
      "workclass         False\n",
      "fnlwgt            False\n",
      "education         False\n",
      "education_num     False\n",
      "marital_status    False\n",
      "occupation        False\n",
      "relationship      False\n",
      "race              False\n",
      "sex               False\n",
      "capital_gain      False\n",
      "capital_loss      False\n",
      "hours_per_week    False\n",
      "native_country    False\n",
      "wage_class        False\n",
      "dtype: bool\n"
     ]
    }
   ],
   "source": [
    "# checking for any missing/NaN values\n",
    "\n",
    "print(train_set.isna().any())\n",
    "print(test_set.isna().any())"
   ]
  },
  {
   "cell_type": "code",
   "execution_count": 4,
   "metadata": {},
   "outputs": [],
   "source": [
    "# splitting the target variable in both training and test data\n",
    "\n",
    "y_train = (train_set['wage_class'] == ' >50K').map({False:0,True:1})\n",
    "y_test = (test_set['wage_class'] == ' >50K').map({False:0,True:1})\n",
    "train_set.drop(['wage_class'],axis=1,inplace=True)\n",
    "test_set.drop(['wage_class'],axis=1,inplace=True)"
   ]
  },
  {
   "cell_type": "code",
   "execution_count": 5,
   "metadata": {},
   "outputs": [],
   "source": [
    "# One hot encoding for the categorical variables\n",
    "\n",
    "cat_vars = ['workclass','education','marital_status','occupation','relationship','race','sex','native_country']\n",
    "\n",
    "encode = OneHotEncoder(sparse=False)\n",
    "train_cat = pd.DataFrame(encode.fit_transform(train_set[cat_vars]),columns = encode.get_feature_names())\n",
    "test_cat = pd.DataFrame(encode.transform(test_set[cat_vars]),columns = encode.get_feature_names())"
   ]
  },
  {
   "cell_type": "code",
   "execution_count": 6,
   "metadata": {},
   "outputs": [],
   "source": [
    "# preparing features data frame for training and testing purpose\n",
    "\n",
    "X_train = train_set.drop(cat_vars,axis=1)\n",
    "for i in train_cat :\n",
    "    X_train[i] = train_cat[i]\n",
    "\n",
    "X_test = test_set.drop(cat_vars,axis=1)\n",
    "for i in test_cat :\n",
    "    X_test[i] = test_cat[i]"
   ]
  },
  {
   "cell_type": "markdown",
   "metadata": {},
   "source": [
    "Now that we have proper dataset, let's build a simple XGBoost model without any hyperparameter tuning"
   ]
  },
  {
   "cell_type": "code",
   "execution_count": 7,
   "metadata": {},
   "outputs": [
    {
     "name": "stdout",
     "output_type": "stream",
     "text": [
      "Accuracy of simple XGBoost model on training data is 0.90\n",
      "Accuracy of simple XGBoost model on test data is 0.80\n"
     ]
    }
   ],
   "source": [
    "# Simple XGBoost model\n",
    "\n",
    "model = XGBClassifier()\n",
    "model.fit(X_train,y_train)\n",
    "print('Accuracy of simple XGBoost model on training data is %.2f'%model.score(X_train,y_train))\n",
    "print('Accuracy of simple XGBoost model on test data is %.2f'%model.score(X_test,y_test))"
   ]
  }
 ],
 "metadata": {
  "kernelspec": {
   "display_name": "Python 3",
   "language": "python",
   "name": "python3"
  },
  "language_info": {
   "codemirror_mode": {
    "name": "ipython",
    "version": 3
   },
   "file_extension": ".py",
   "mimetype": "text/x-python",
   "name": "python",
   "nbconvert_exporter": "python",
   "pygments_lexer": "ipython3",
   "version": "3.8.3"
  }
 },
 "nbformat": 4,
 "nbformat_minor": 4
}

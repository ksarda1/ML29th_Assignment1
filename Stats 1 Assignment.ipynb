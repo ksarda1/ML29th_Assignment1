{
 "cells": [
  {
   "cell_type": "code",
   "execution_count": 1,
   "metadata": {},
   "outputs": [],
   "source": [
    "import statistics\n",
    "import numpy as np\n",
    "import scipy.stats\n",
    "import math"
   ]
  },
  {
   "cell_type": "code",
   "execution_count": 2,
   "metadata": {},
   "outputs": [
    {
     "name": "stdout",
     "output_type": "stream",
     "text": [
      "Mean is 6.850000\n"
     ]
    }
   ],
   "source": [
    "#Problem Statement 1: Calculate the mean, median, mode and standard deviation\n",
    "\n",
    "a = [6,7,5,7,7,8,7,6,9,7,4,10,6,8,8,9,5,6,4,8]\n",
    "print(\"Mean is %f\"%(sum(a)/len(a)))"
   ]
  },
  {
   "cell_type": "code",
   "execution_count": 3,
   "metadata": {},
   "outputs": [
    {
     "name": "stdout",
     "output_type": "stream",
     "text": [
      "Mean is 107.514286\n"
     ]
    }
   ],
   "source": [
    "#Problem Statement 2: Calculate the mean, median, mode and standard deviation\n",
    "\n",
    "a = [28, 122, 217, 130, 120, 86, 80, 90, 140, 120, 70, 40, 145, 113, 90, 68, 174, 194, 170,100, 75, 104, 97, 75,\n",
    "     123, 100, 75, 104, 97, 75, 123, 100, 89, 120, 109]\n",
    "print(\"Mean is %f\"%(sum(a)/len(a)))"
   ]
  },
  {
   "cell_type": "code",
   "execution_count": 4,
   "metadata": {},
   "outputs": [
    {
     "name": "stdout",
     "output_type": "stream",
     "text": [
      "Mean number of workouts is 2.15\n",
      "Variance is 1.23\n"
     ]
    }
   ],
   "source": [
    "#Problem Statement 3: Calculate the mean no. of workouts in a week\n",
    "\n",
    "no_of_workouts = [0, 1, 2, 3, 4, 5]\n",
    "prob = [0.09, 0.15, 0.40, 0.25, 0.10, 0.01]\n",
    "exp = 0\n",
    "var = 0\n",
    "for i in range(len(no_of_workouts)) :\n",
    "    exp += no_of_workouts[i]*prob[i]\n",
    "for i in range(len(prob)) :\n",
    "    var += pow(exp-no_of_workouts[i],2)*prob[i]\n",
    "print('Mean number of workouts is %.2f'%exp)\n",
    "print(\"Variance is %.2f\"%var)"
   ]
  },
  {
   "cell_type": "code",
   "execution_count": 5,
   "metadata": {},
   "outputs": [
    {
     "name": "stdout",
     "output_type": "stream",
     "text": [
      "proportion is 0.86\n",
      "CDF for dia = 11mm is:  0\n"
     ]
    }
   ],
   "source": [
    "#Problem Statement 4: Find the proportion and CDF\n",
    "\n",
    "def cdf(d) :\n",
    "    return -1*math.exp(-20*(d-12.5))\n",
    "\n",
    "print(\"proportion is %.2f\"%(1-(cdf(1000000000)-cdf(12.6))))\n",
    "\n",
    "print('CDF for dia = 11mm is: ',0)"
   ]
  },
  {
   "cell_type": "code",
   "execution_count": 6,
   "metadata": {},
   "outputs": [
    {
     "name": "stdout",
     "output_type": "stream",
     "text": [
      "Probability of having 2 faulty bulbs is 0.32\n",
      "Standard Deviation associated is 1.12\n"
     ]
    }
   ],
   "source": [
    "#Problem Statement 5:\n",
    "\n",
    "faulty_rate = 0.3\n",
    "total = 6\n",
    "select = 2\n",
    "\n",
    "print('Probability of having 2 faulty bulbs is %.2f'%scipy.stats.binom.pmf(select,total,faulty_rate))\n",
    "print('Standard Deviation associated is %.2f'%scipy.stats.binom.std(total,faulty_rate))"
   ]
  },
  {
   "cell_type": "code",
   "execution_count": 7,
   "metadata": {},
   "outputs": [
    {
     "name": "stdout",
     "output_type": "stream",
     "text": [
      "Probability of both of them solving 5 questions is 0.04\n",
      "Probability of both of them solving 4 questions is 0.04\n",
      "Probability of both of them solving 6 questions is 0.01\n"
     ]
    }
   ],
   "source": [
    "#Problem Statement 6:\n",
    "\n",
    "gaurav_tot = 8\n",
    "barakha_tot = 12\n",
    "gaurav_pass_rate = 0.75\n",
    "gaurav_pass_rate = 0.45\n",
    "\n",
    "correct = 5\n",
    "correct1 = 4\n",
    "correct2 = 6\n",
    "\n",
    "def prob_both(x) :\n",
    "    prob_gaurav = scipy.stats.binom.pmf(x,gaurav_tot,gaurav_pass_rate)\n",
    "    prob_barakha = scipy.stats.binom.pmf(x,barakha_tot,gaurav_pass_rate)\n",
    "    return prob_gaurav*prob_barakha\n",
    "\n",
    "print('Probability of both of them solving 5 questions is %.2f'%prob_both(correct))\n",
    "print('Probability of both of them solving 4 questions is %.2f'%prob_both(correct1))\n",
    "print('Probability of both of them solving 6 questions is %.2f'%prob_both(correct2))"
   ]
  },
  {
   "cell_type": "code",
   "execution_count": 8,
   "metadata": {},
   "outputs": [
    {
     "name": "stdout",
     "output_type": "stream",
     "text": [
      "Probability of 5 customers arring is 0.17\n",
      "Probability of not more than 3 customers arriving is 0.29\n",
      "Probability of more that 3 customers arriving is 0.71\n"
     ]
    }
   ],
   "source": [
    "#Problem Statement 7:\n",
    "\n",
    "average_cust = 72/60*4\n",
    "number_of_cust = 5\n",
    "\n",
    "print('Probability of 5 customers arring is %.2f'%scipy.stats.poisson.pmf(number_of_cust,average_cust))\n",
    "\n",
    "prob = 0\n",
    "for i in range(4):\n",
    "    prob += scipy.stats.poisson.pmf(i,72/60*4)\n",
    "print('Probability of not more than 3 customers arriving is %.2f'%prob)\n",
    "print('Probability of more that 3 customers arriving is %.2f'%(1-prob))"
   ]
  },
  {
   "cell_type": "code",
   "execution_count": 9,
   "metadata": {},
   "outputs": [
    {
     "name": "stdout",
     "output_type": "stream",
     "text": [
      "Probability of 2 errors for 455 words is 0.10\n",
      "Probability of 2 errors for 255 words is 0.04\n",
      "Probability of 2 errors for 1000 words is 0.23\n"
     ]
    }
   ],
   "source": [
    "#Problem Statement 8:\n",
    "\n",
    "def avg_error(words) :\n",
    "    return words*6/(77*60)\n",
    "\n",
    "words = 455\n",
    "errors = 2\n",
    "print('Probability of 2 errors for 455 words is %.2f'%scipy.stats.poisson.pmf(errors,avg_error(words)))\n",
    "\n",
    "words1 = 255\n",
    "words2 = 1000\n",
    "print('Probability of 2 errors for 255 words is %.2f'%scipy.stats.poisson.pmf(errors,avg_error(words1)))\n",
    "print('Probability of 2 errors for 1000 words is %.2f'%scipy.stats.poisson.pmf(errors,avg_error(words2)))"
   ]
  },
  {
   "cell_type": "code",
   "execution_count": 10,
   "metadata": {},
   "outputs": [
    {
     "name": "stdout",
     "output_type": "stream",
     "text": [
      "proportion is 0.86\n",
      "CDF for dia = 11mm is:  0\n"
     ]
    }
   ],
   "source": [
    "#Problem Statement 9:\n",
    "\n",
    "def cdf(d) :\n",
    "    return -1*math.exp(-20*(d-12.5))\n",
    "\n",
    "print(\"proportion is %.2f\"%(1-(cdf(1000000000)-cdf(12.6))))\n",
    "\n",
    "print('CDF for dia = 11mm is: ',0)"
   ]
  },
  {
   "cell_type": "code",
   "execution_count": 11,
   "metadata": {},
   "outputs": [
    {
     "name": "stdout",
     "output_type": "stream",
     "text": [
      "P(Z > 1.26) is 0.10\n",
      "P(Z < −0.86) is 0.19\n",
      "P(Z > −1.37) is 0.91\n",
      "P(−1.25 < Z < 0.37) is 0.54\n",
      "P(Z ≤ −4.6) is 0.00\n",
      "Value of z such that '𝑃(𝑍 > 𝑧) = 0.05' is 0.13\n",
      "Value of z such that '𝑃(−𝑧 < 𝑍 < 𝑧) = 0.99' is 2.58\n"
     ]
    }
   ],
   "source": [
    "#Problem Statement 10:\n",
    "\n",
    "prob = scipy.stats.norm(0, 1)\n",
    "\n",
    "z = 1.26\n",
    "print(\"P(Z > 1.26) is %.2f\"%(1-prob.cdf(z)))\n",
    "\n",
    "z = -0.86\n",
    "print(\"P(Z < −0.86) is %.2f\"%prob.cdf(z))\n",
    "\n",
    "z = -1.37\n",
    "print(\"P(Z > −1.37) is %.2f\"%(1-prob.cdf(z)))\n",
    "\n",
    "z1,z2 = -1.25,.37\n",
    "print(\"P(−1.25 < Z < 0.37) is %.2f\"%(prob.cdf(z2)-prob.cdf(z1)))\n",
    "\n",
    "z = -4.6\n",
    "print(\"P(Z ≤ −4.6) is %.2f\"%prob.cdf(z))\n",
    "\n",
    "print(\"Value of z such that '𝑃(𝑍 > 𝑧) = 0.05' is %.2f\"%scipy.stats.norm.interval(0.1)[1])\n",
    "\n",
    "print(\"Value of z such that '𝑃(−𝑧 < 𝑍 < 𝑧) = 0.99' is %.2f\"%scipy.stats.norm.interval(0.99)[1])"
   ]
  },
  {
   "cell_type": "code",
   "execution_count": 12,
   "metadata": {},
   "outputs": [
    {
     "name": "stdout",
     "output_type": "stream",
     "text": [
      "Probability that a current measurement will exceed 13 𝑚A is 0.07\n",
      "Probability that a current measurement is between 9 and 11mA is 0.38\n",
      "Current measurement which has a probability of 0.98 is 14.65 mA\n"
     ]
    }
   ],
   "source": [
    "#Problem Statement 11:\n",
    "\n",
    "prob = scipy.stats.norm(10, 2)\n",
    "\n",
    "min_curr = 13\n",
    "print(\"Probability that a current measurement will exceed 13 𝑚A is %.2f\"%(1-prob.cdf(min_curr)))\n",
    "\n",
    "min_curr = 9\n",
    "max_curr = 11\n",
    "print(\"Probability that a current measurement is between 9 and 11mA is %.2f\"%(prob.cdf(max_curr)-prob.cdf(min_curr)))\n",
    "\n",
    "print(\"Current measurement which has a probability of 0.98 is %.2f mA\"%(scipy.stats.norm(10,2).interval(0.98)[1]))"
   ]
  },
  {
   "cell_type": "code",
   "execution_count": 13,
   "metadata": {},
   "outputs": [
    {
     "name": "stdout",
     "output_type": "stream",
     "text": [
      "Proportion of shafts conform to the new specifications is 0.92\n",
      "Proportion of shafts conform after recentering is 0.997\n"
     ]
    }
   ],
   "source": [
    "#Problem Statement 12:\n",
    "\n",
    "prob1 = scipy.stats.norm(0.2508, 0.0005)\n",
    "shaft_dia_min = 0.2500-0.0015\n",
    "shaft_dia_max = 0.2500+0.0015\n",
    "print(\"Proportion of shafts conform to the new specifications is %.2f\"%(prob1.cdf(shaft_dia_max)-prob1.cdf(shaft_dia_min)))\n",
    "\n",
    "prob2 = scipy.stats.norm(0.2500, 0.0005)\n",
    "shaft_cent_dia_min = 0.2500-0.0015\n",
    "shaft_cent_dia_max = 0.2500+0.0015\n",
    "print(\"Proportion of shafts conform after recentering is %.3f\"%(prob2.cdf(shaft_cent_dia_max)-prob2.cdf(shaft_cent_dia_min)))"
   ]
  }
 ],
 "metadata": {
  "kernelspec": {
   "display_name": "Python 3",
   "language": "python",
   "name": "python3"
  },
  "language_info": {
   "codemirror_mode": {
    "name": "ipython",
    "version": 3
   },
   "file_extension": ".py",
   "mimetype": "text/x-python",
   "name": "python",
   "nbconvert_exporter": "python",
   "pygments_lexer": "ipython3",
   "version": "3.8.3"
  }
 },
 "nbformat": 4,
 "nbformat_minor": 4
}
